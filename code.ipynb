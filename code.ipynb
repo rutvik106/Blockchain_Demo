{
 "cells": [
  {
   "cell_type": "code",
   "execution_count": 1,
   "metadata": {},
   "outputs": [
    {
     "data": {
      "text/plain": [
       "undefined"
      ]
     },
     "execution_count": 1,
     "metadata": {},
     "output_type": "execute_result"
    }
   ],
   "source": [
    "// Require crypto-js for generating SHA256 Hash\n",
    "const SHA256=require('crypto-js/sha256');"
   ]
  },
  {
   "cell_type": "code",
   "execution_count": 2,
   "metadata": {},
   "outputs": [
    {
     "data": {
      "text/plain": [
       "[Function: Block]"
      ]
     },
     "execution_count": 2,
     "metadata": {},
     "output_type": "execute_result"
    }
   ],
   "source": [
    "// Block of data holding refrence to previous block's hash\n",
    "class Block{\n",
    "    \n",
    "    // Constructor takes Index as the index of block in the chain as integer\n",
    "    // Takes timestamp and other data and previousHash of previous block\n",
    "    constructor(index,timestamp,data,previousHash=''){\n",
    "        this.index=index;\n",
    "        this.timestamp=timestamp;\n",
    "        this.data=data;\n",
    "        this.previousHash=previousHash;\n",
    "        this.hash=this.calculateHash();\n",
    "    }\n",
    "    \n",
    "    // Function used to calculate SHA256 hash of this Object\n",
    "    calculateHash(){\n",
    "        return SHA256(this.index+this.previousHash+this.timestamp+JSON.stringify(this.data)).toString();\n",
    "    }\n",
    "}"
   ]
  },
  {
   "cell_type": "code",
   "execution_count": 3,
   "metadata": {},
   "outputs": [
    {
     "data": {
      "text/plain": [
       "[Function: Blockchain]"
      ]
     },
     "execution_count": 3,
     "metadata": {},
     "output_type": "execute_result"
    }
   ],
   "source": [
    "// Class Blockchain holds all the blocks and a root block called Genesis Block\n",
    "class Blockchain{\n",
    "    \n",
    "    // Constructor initialize chain with root/first Genesis block at index 0\n",
    "    constructor(){\n",
    "        this.chain=[this.createGenesisBlock()];\n",
    "    }\n",
    "    \n",
    "    // This creates a Genesis block which is a very first block in the chain\n",
    "    createGenesisBlock(){\n",
    "        return new Block(0,\"01/01/20017\",\"Genesis block.\",0);\n",
    "    }\n",
    "    \n",
    "    // Returns the Last/Latest Block in the chain\n",
    "    getLatestBlock(){\n",
    "        return this.chain[this.chain.length-1];\n",
    "    }\n",
    "    \n",
    "    // Adds new block in the chain\n",
    "    addBlock(newBlock){\n",
    "        newBlock.previousHash=this.getLatestBlock().hash;\n",
    "        newBlock.hash=newBlock.calculateHash();\n",
    "        this.chain.push(newBlock);\n",
    "    }\n",
    "    \n",
    "    // Checks if the block chain in valid or not\n",
    "    isBlockChainValid(){\n",
    "        // Go through all the blocks in the chain\n",
    "        for(let i=1;i<this.chain.length;i++){\n",
    "            \n",
    "            // Get the current and previous block\n",
    "            const currentBlock=this.chain[i];\n",
    "            const previousBlock=this.chain[i-1];\n",
    "            \n",
    "            // Recalculate current block's hash\n",
    "            // Return false if hash dont match\n",
    "            if(currentBlock.hash!==currentBlock.calculateHash()){\n",
    "                console.log(\"Data at block index: \"+i+\" is tempered\");\n",
    "                console.log(\"Current hash: \"+currentBlock.calculateHash());\n",
    "                console.log(\"Required hash: \"+currentBlock.hash);\n",
    "                return false;\n",
    "            }\n",
    "            \n",
    "            // Check current block previous hash with current block hash\n",
    "            // Return false if hash dont match\n",
    "            if(currentBlock.previousHash!==previousBlock.hash){\n",
    "                console.log(\"Relationship missmatch between Block \"+(i-1)+\" and \"+i);\n",
    "                console.log(\"Current hash: \"+previousBlock.hash);\n",
    "                console.log(\"Required hash: \"+currentBlock.previousHash);\n",
    "                return false;\n",
    "            }\n",
    "            \n",
    "        }\n",
    "        // Return true if passes all conditions\n",
    "        return true;\n",
    "    }\n",
    "}"
   ]
  },
  {
   "cell_type": "code",
   "execution_count": 4,
   "metadata": {},
   "outputs": [
    {
     "data": {
      "text/plain": [
       "undefined"
      ]
     },
     "execution_count": 4,
     "metadata": {},
     "output_type": "execute_result"
    }
   ],
   "source": [
    "// Create a blockchain\n",
    "let myBlockChain=new Blockchain();\n",
    "\n",
    "\n",
    "// Add blocks to blockchain\n",
    "myBlockChain.addBlock(new Block(1,\"22/07/2017\",{amount:10}));\n",
    "myBlockChain.addBlock(new Block(2,\"12/06/2017\",{amount:234}));\n",
    "myBlockChain.addBlock(new Block(3,\"10/07/2017\",{amount:2523}));\n",
    "myBlockChain.addBlock(new Block(4,\"08/07/2017\",{amount:12}));\n",
    "myBlockChain.addBlock(new Block(5,\"1/06/2017\",{amount:25}));\n",
    "myBlockChain.addBlock(new Block(6,\"2/05/2017\",{amount:346}));\n",
    "myBlockChain.addBlock(new Block(7,\"3/02/2017\",{amount:34}));\n",
    "myBlockChain.addBlock(new Block(8,\"4/03/2017\",{amount:35}));\n",
    "myBlockChain.addBlock(new Block(9,\"12/01/2017\",{amount:36}));\n",
    "myBlockChain.addBlock(new Block(10,\"11/04/2017\",{amount:4567}));"
   ]
  },
  {
   "cell_type": "code",
   "execution_count": 5,
   "metadata": {},
   "outputs": [
    {
     "name": "stdout",
     "output_type": "stream",
     "text": [
      "{\n",
      "    \"chain\": [\n",
      "        {\n",
      "            \"index\": 0,\n",
      "            \"timestamp\": \"01/01/20017\",\n",
      "            \"data\": \"Genesis block.\",\n",
      "            \"previousHash\": 0,\n",
      "            \"hash\": \"5c212beefba8ca940a1093da78cdf9a72cd10e2ac7b9000a969c7b5dee343489\"\n",
      "        },\n",
      "        {\n",
      "            \"index\": 1,\n",
      "            \"timestamp\": \"22/07/2017\",\n",
      "            \"data\": {\n",
      "                \"amount\": 10\n",
      "            },\n",
      "            \"previousHash\": \"5c212beefba8ca940a1093da78cdf9a72cd10e2ac7b9000a969c7b5dee343489\",\n",
      "            \"hash\": \"4af7345be7770abbe99c72e5716c934c919e7ff7ebe949e834cfe3e322c1fdbb\"\n",
      "        },\n",
      "        {\n",
      "            \"index\": 2,\n",
      "            \"timestamp\": \"12/06/2017\",\n",
      "            \"data\": {\n",
      "                \"amount\": 234\n",
      "            },\n",
      "            \"previousHash\": \"4af7345be7770abbe99c72e5716c934c919e7ff7ebe949e834cfe3e322c1fdbb\",\n",
      "            \"hash\": \"683905c59faaf7afa66e551d2ac9468b36340b3344157bae990caccc0ae27240\"\n",
      "        },\n",
      "        {\n",
      "            \"index\": 3,\n",
      "            \"timestamp\": \"10/07/2017\",\n",
      "            \"data\": {\n",
      "                \"amount\": 2523\n",
      "            },\n",
      "            \"previousHash\": \"683905c59faaf7afa66e551d2ac9468b36340b3344157bae990caccc0ae27240\",\n",
      "            \"hash\": \"a3ded7f619ac5a4e59bfd116c1b465f95609946c3c99d64b848f20302f60584a\"\n",
      "        },\n",
      "        {\n",
      "            \"index\": 4,\n",
      "            \"timestamp\": \"08/07/2017\",\n",
      "            \"data\": {\n",
      "                \"amount\": 12\n",
      "            },\n",
      "            \"previousHash\": \"a3ded7f619ac5a4e59bfd116c1b465f95609946c3c99d64b848f20302f60584a\",\n",
      "            \"hash\": \"d11341ec01ef3d51d558b3ea06e0b49a4659bdb8842f89dfa3dbd56550fd0168\"\n",
      "        },\n",
      "        {\n",
      "            \"index\": 5,\n",
      "            \"timestamp\": \"1/06/2017\",\n",
      "            \"data\": {\n",
      "                \"amount\": 25\n",
      "            },\n",
      "            \"previousHash\": \"d11341ec01ef3d51d558b3ea06e0b49a4659bdb8842f89dfa3dbd56550fd0168\",\n",
      "            \"hash\": \"f1967e79686721768066307b929767ca43ff96e7a8e0a853c2b1734920e65f4a\"\n",
      "        },\n",
      "        {\n",
      "            \"index\": 6,\n",
      "            \"timestamp\": \"2/05/2017\",\n",
      "            \"data\": {\n",
      "                \"amount\": 346\n",
      "            },\n",
      "            \"previousHash\": \"f1967e79686721768066307b929767ca43ff96e7a8e0a853c2b1734920e65f4a\",\n",
      "            \"hash\": \"cc4c874d8ed9bf0435cd0bf0f58c8bdaf630f3ef8168618c67c2e1959e61283e\"\n",
      "        },\n",
      "        {\n",
      "            \"index\": 7,\n",
      "            \"timestamp\": \"3/02/2017\",\n",
      "            \"data\": {\n",
      "                \"amount\": 34\n",
      "            },\n",
      "            \"previousHash\": \"cc4c874d8ed9bf0435cd0bf0f58c8bdaf630f3ef8168618c67c2e1959e61283e\",\n",
      "            \"hash\": \"9fd6ec59cfdca43f429e48da4e4b8fb0e566e44042e3954e98e53b8b24ddfa02\"\n",
      "        },\n",
      "        {\n",
      "            \"index\": 8,\n",
      "            \"timestamp\": \"4/03/2017\",\n",
      "            \"data\": {\n",
      "                \"amount\": 35\n",
      "            },\n",
      "            \"previousHash\": \"9fd6ec59cfdca43f429e48da4e4b8fb0e566e44042e3954e98e53b8b24ddfa02\",\n",
      "            \"hash\": \"fafd51d5cd7070d10885eccebc6334bb3184be833a6658fbd35ee15500cdc58e\"\n",
      "        },\n",
      "        {\n",
      "            \"index\": 9,\n",
      "            \"timestamp\": \"12/01/2017\",\n",
      "            \"data\": {\n",
      "                \"amount\": 36\n",
      "            },\n",
      "            \"previousHash\": \"fafd51d5cd7070d10885eccebc6334bb3184be833a6658fbd35ee15500cdc58e\",\n",
      "            \"hash\": \"ea17c82ef62be00ed6ed3463dcbcd449cce610d7611053615afe5f5f953ce798\"\n",
      "        },\n",
      "        {\n",
      "            \"index\": 10,\n",
      "            \"timestamp\": \"11/04/2017\",\n",
      "            \"data\": {\n",
      "                \"amount\": 4567\n",
      "            },\n",
      "            \"previousHash\": \"ea17c82ef62be00ed6ed3463dcbcd449cce610d7611053615afe5f5f953ce798\",\n",
      "            \"hash\": \"450117212455d3d4f323c2c511b784e8eb451a39aedef1e0027f78f5d487d472\"\n",
      "        }\n",
      "    ]\n",
      "}\n"
     ]
    },
    {
     "data": {
      "text/plain": [
       "undefined"
      ]
     },
     "execution_count": 5,
     "metadata": {},
     "output_type": "execute_result"
    }
   ],
   "source": [
    "// Print blockchain\n",
    "console.log(JSON.stringify(myBlockChain,null,4));"
   ]
  },
  {
   "cell_type": "code",
   "execution_count": 7,
   "metadata": {},
   "outputs": [
    {
     "data": {
      "text/plain": [
       "undefined"
      ]
     },
     "execution_count": 7,
     "metadata": {},
     "output_type": "execute_result"
    }
   ],
   "source": [
    "// Valadating block chain\n",
    "function validate(){\n",
    "    if(myBlockChain.isBlockChainValid()){\n",
    "        console.log(\"This block chain is valid\");\n",
    "    }else{\n",
    "        console.log(\"This block chain is not valid\");\n",
    "    }\n",
    "}\n",
    "\n",
    "\n",
    "// Generates a random number between a specific range\n",
    "function getRandomInt(min, max) {\n",
    "    return Math.floor(Math.random() * (max - min + 1)) + min;\n",
    "}"
   ]
  },
  {
   "cell_type": "code",
   "execution_count": null,
   "metadata": {
    "collapsed": true
   },
   "outputs": [],
   "source": []
  }
 ],
 "metadata": {
  "kernelspec": {
   "display_name": "Javascript (Node.js)",
   "language": "javascript",
   "name": "javascript"
  },
  "language_info": {
   "file_extension": ".js",
   "mimetype": "application/javascript",
   "name": "javascript",
   "version": "6.11.0"
  }
 },
 "nbformat": 4,
 "nbformat_minor": 2
}
